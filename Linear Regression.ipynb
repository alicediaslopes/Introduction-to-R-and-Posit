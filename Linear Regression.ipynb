{
 "cells": [
  {
   "cell_type": "markdown",
   "id": "3c83049c",
   "metadata": {},
   "source": [
    "## Linear Regression: summarising relationships using the equation of a line"
   ]
  },
  {
   "cell_type": "markdown",
   "id": "dacd0c40",
   "metadata": {},
   "source": [
    "Linear regression models constitute a powerful statistical tool because they enable us to **understand** and **predict** a particular outcome (dependent variable) on the basis of a known set of characteristics (independent variables) (Brace, Kemp &amp; Sneglar, 2009).\n",
    "\n",
    "It serves as a good jumping-off point for newer approaches: many fancy statistical methods are a generalisation or extension of linear regression."
   ]
  },
  {
   "cell_type": "markdown",
   "id": "608009de",
   "metadata": {},
   "source": [
    "## Simple regression models\n",
    "\n",
    "Simple regression is a very straightforward approach for explaining and predicting a quantitative response Y on the basis of a single predictor variable X. It assumes that there is a approximately a linear relationship between X and Y. Mathematically, we can write the linear relationship as:\n",
    "\n",
    "$$\n",
    "\\begin{aligned}\n",
    "Y_i = \\alpha + \\beta X_i\n",
    "\\end{aligned}\n",
    "$$\n",
    "\n",
    "This equation describes a linear relationship between (an independent variable) and (a dependent variable), where the value of can be calculated from the value of . $a$  is the regression line intercept or constant. $b$ is the slope of the line (the regression coefficient). $Y$ indicates the change in which is associated with one unit change in X."
   ]
  },
  {
   "cell_type": "markdown",
   "id": "f044cc24",
   "metadata": {},
   "source": [
    "## Linear Regression Assumptions\n",
    "The linear regression technique requires several assumptions to be satisfied. If the\n",
    "assumptions are violated, the data are not properly fitted and the regression model may\n",
    "give misleading results.\n",
    "\n",
    "1. Linearity: the relationships between the independent(s) and the dependent variables\n",
    "should be linear. Checking if the linear assumption is satisfied in the case of a simple\n",
    "regression model is straightforward since we only have one independent variable. All\n",
    "you have to do is produce a scatter plot of the relationship between the dependent and\n",
    "independent variable to see if nonlinearity is present.\n",
    "\n",
    "2. Normality: the errors (residuals) should be normally distributed. To check for normality\n",
    "of the residuals, you should run a normal probability plot. The normality assumption is\n",
    "satisfied if the plot shows that the residuals are arranged in a straight line (or close to\n",
    "the straight line).\n",
    "\n",
    "3. Independence: The errors should be independent and identically distributed (the\n",
    "sample is drawn in such a way that the errors for any two observations are\n",
    "uncorrelated). We should investigate if there is a pattern in the residual plot. If we see\n",
    "a pattern, this means that the errors are correlated and the assumption of\n",
    "independence is violated.\n",
    "\n",
    "4. Multicollinearity: While strictly speaking this is not one of the assumptions of\n",
    "regression, when you are running a multiple regression you should check whether the\n",
    "independent variables you wish to include in your models are correlated. You can\n",
    "produce a correlation matrix of all the independent variables to check for\n",
    "multicollinearity. If two or more of the variables are highly correlated (at 0.8 or higher),\n",
    "you should omit some of them to avoid the risk associated with multicollinearity."
   ]
  },
  {
   "cell_type": "markdown",
   "id": "0ffc3fcd",
   "metadata": {},
   "source": [
    "## Example using R code"
   ]
  },
  {
   "cell_type": "code",
   "execution_count": null,
   "id": "d4baed6f",
   "metadata": {},
   "outputs": [],
   "source": []
  }
 ],
 "metadata": {
  "kernelspec": {
   "display_name": "R with Stan",
   "language": "R",
   "name": "ir"
  },
  "language_info": {
   "codemirror_mode": "r",
   "file_extension": ".r",
   "mimetype": "text/x-r-source",
   "name": "R",
   "pygments_lexer": "r",
   "version": "4.1.1"
  }
 },
 "nbformat": 4,
 "nbformat_minor": 5
}
